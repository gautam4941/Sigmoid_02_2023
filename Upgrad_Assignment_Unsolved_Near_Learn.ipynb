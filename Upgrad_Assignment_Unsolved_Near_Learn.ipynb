{
  "metadata": {
    "kernelspec": {
      "display_name": "Python 3",
      "language": "python",
      "name": "python3"
    },
    "language_info": {
      "name": "python",
      "version": "3.7.6",
      "mimetype": "text/x-python",
      "codemirror_mode": {
        "name": "ipython",
        "version": 3
      },
      "pygments_lexer": "ipython3",
      "nbconvert_exporter": "python",
      "file_extension": ".py"
    },
    "colab": {
      "name": "Upgrad.Assignment_Unsolved.ipynb",
      "provenance": []
    }
  },
  "nbformat_minor": 0,
  "nbformat": 4,
  "cells": [
    {
      "cell_type": "code",
      "source": [
        "# Supress Warnings\n",
        "\n",
        "import warnings\n",
        "warnings.filterwarnings('ignore')"
      ],
      "metadata": {
        "trusted": true,
        "id": "gIh4ryRQ9kfN"
      },
      "execution_count": 1,
      "outputs": []
    },
    {
      "cell_type": "code",
      "source": [
        "# Import the numpy and pandas packages\n",
        "\n",
        "import numpy as np\n",
        "import pandas as pd"
      ],
      "metadata": {
        "trusted": true,
        "id": "UZoaslH79kfd"
      },
      "execution_count": 2,
      "outputs": []
    },
    {
      "cell_type": "markdown",
      "source": [
        "## Task 1: Reading and Inspection\n",
        "\n",
        "-  ### Subtask 1.1: Import and read\n",
        "\n",
        "Import and read the movie database. Store it in a variable called `movies`."
      ],
      "metadata": {
        "id": "LM2Ws-0C9kfg"
      }
    },
    {
      "cell_type": "code",
      "source": [
        "# Write your code for importing the csv file here\n",
        "\n",
        "movies = pd.read_csv( \"Movie+Assignment+Data.csv\" )\n",
        "movies.head()"
      ],
      "metadata": {
        "trusted": true,
        "colab": {
          "base_uri": "https://localhost:8080/",
          "height": 382
        },
        "id": "cgzKu9rZ9kfl",
        "outputId": "730afaa6-c858-4aa9-a1ae-091a6c050e28"
      },
      "execution_count": 71,
      "outputs": [
        {
          "output_type": "execute_result",
          "data": {
            "text/html": [
              "<div>\n",
              "<style scoped>\n",
              "    .dataframe tbody tr th:only-of-type {\n",
              "        vertical-align: middle;\n",
              "    }\n",
              "\n",
              "    .dataframe tbody tr th {\n",
              "        vertical-align: top;\n",
              "    }\n",
              "\n",
              "    .dataframe thead th {\n",
              "        text-align: right;\n",
              "    }\n",
              "</style>\n",
              "<table border=\"1\" class=\"dataframe\">\n",
              "  <thead>\n",
              "    <tr style=\"text-align: right;\">\n",
              "      <th></th>\n",
              "      <th>color</th>\n",
              "      <th>director_name</th>\n",
              "      <th>num_critic_for_reviews</th>\n",
              "      <th>duration</th>\n",
              "      <th>director_facebook_likes</th>\n",
              "      <th>actor_3_facebook_likes</th>\n",
              "      <th>actor_2_name</th>\n",
              "      <th>actor_1_facebook_likes</th>\n",
              "      <th>gross</th>\n",
              "      <th>genres</th>\n",
              "      <th>actor_1_name</th>\n",
              "      <th>movie_title</th>\n",
              "      <th>num_voted_users</th>\n",
              "      <th>cast_total_facebook_likes</th>\n",
              "      <th>actor_3_name</th>\n",
              "      <th>facenumber_in_poster</th>\n",
              "      <th>plot_keywords</th>\n",
              "      <th>movie_imdb_link</th>\n",
              "      <th>num_user_for_reviews</th>\n",
              "      <th>language</th>\n",
              "      <th>country</th>\n",
              "      <th>content_rating</th>\n",
              "      <th>budget</th>\n",
              "      <th>title_year</th>\n",
              "      <th>actor_2_facebook_likes</th>\n",
              "      <th>imdb_score</th>\n",
              "      <th>aspect_ratio</th>\n",
              "      <th>movie_facebook_likes</th>\n",
              "    </tr>\n",
              "  </thead>\n",
              "  <tbody>\n",
              "    <tr>\n",
              "      <th>0</th>\n",
              "      <td>Color</td>\n",
              "      <td>James Cameron</td>\n",
              "      <td>723.0</td>\n",
              "      <td>178.0</td>\n",
              "      <td>0.0</td>\n",
              "      <td>855.0</td>\n",
              "      <td>Joel David Moore</td>\n",
              "      <td>1000.0</td>\n",
              "      <td>760505847.0</td>\n",
              "      <td>Action|Adventure|Fantasy|Sci-Fi</td>\n",
              "      <td>CCH Pounder</td>\n",
              "      <td>Avatar</td>\n",
              "      <td>886204</td>\n",
              "      <td>4834</td>\n",
              "      <td>Wes Studi</td>\n",
              "      <td>0.0</td>\n",
              "      <td>avatar|future|marine|native|paraplegic</td>\n",
              "      <td>http://www.imdb.com/title/tt0499549/?ref_=fn_t...</td>\n",
              "      <td>3054.0</td>\n",
              "      <td>English</td>\n",
              "      <td>USA</td>\n",
              "      <td>PG-13</td>\n",
              "      <td>237000000.0</td>\n",
              "      <td>2009.0</td>\n",
              "      <td>936.0</td>\n",
              "      <td>7.9</td>\n",
              "      <td>1.78</td>\n",
              "      <td>33000</td>\n",
              "    </tr>\n",
              "    <tr>\n",
              "      <th>1</th>\n",
              "      <td>Color</td>\n",
              "      <td>Gore Verbinski</td>\n",
              "      <td>302.0</td>\n",
              "      <td>169.0</td>\n",
              "      <td>563.0</td>\n",
              "      <td>1000.0</td>\n",
              "      <td>Orlando Bloom</td>\n",
              "      <td>40000.0</td>\n",
              "      <td>309404152.0</td>\n",
              "      <td>Action|Adventure|Fantasy</td>\n",
              "      <td>Johnny Depp</td>\n",
              "      <td>Pirates of the Caribbean: At World's End</td>\n",
              "      <td>471220</td>\n",
              "      <td>48350</td>\n",
              "      <td>Jack Davenport</td>\n",
              "      <td>0.0</td>\n",
              "      <td>goddess|marriage ceremony|marriage proposal|pi...</td>\n",
              "      <td>http://www.imdb.com/title/tt0449088/?ref_=fn_t...</td>\n",
              "      <td>1238.0</td>\n",
              "      <td>English</td>\n",
              "      <td>USA</td>\n",
              "      <td>PG-13</td>\n",
              "      <td>300000000.0</td>\n",
              "      <td>2007.0</td>\n",
              "      <td>5000.0</td>\n",
              "      <td>7.1</td>\n",
              "      <td>2.35</td>\n",
              "      <td>0</td>\n",
              "    </tr>\n",
              "    <tr>\n",
              "      <th>2</th>\n",
              "      <td>Color</td>\n",
              "      <td>Sam Mendes</td>\n",
              "      <td>602.0</td>\n",
              "      <td>148.0</td>\n",
              "      <td>0.0</td>\n",
              "      <td>161.0</td>\n",
              "      <td>Rory Kinnear</td>\n",
              "      <td>11000.0</td>\n",
              "      <td>200074175.0</td>\n",
              "      <td>Action|Adventure|Thriller</td>\n",
              "      <td>Christoph Waltz</td>\n",
              "      <td>Spectre</td>\n",
              "      <td>275868</td>\n",
              "      <td>11700</td>\n",
              "      <td>Stephanie Sigman</td>\n",
              "      <td>1.0</td>\n",
              "      <td>bomb|espionage|sequel|spy|terrorist</td>\n",
              "      <td>http://www.imdb.com/title/tt2379713/?ref_=fn_t...</td>\n",
              "      <td>994.0</td>\n",
              "      <td>English</td>\n",
              "      <td>UK</td>\n",
              "      <td>PG-13</td>\n",
              "      <td>245000000.0</td>\n",
              "      <td>2015.0</td>\n",
              "      <td>393.0</td>\n",
              "      <td>6.8</td>\n",
              "      <td>2.35</td>\n",
              "      <td>85000</td>\n",
              "    </tr>\n",
              "    <tr>\n",
              "      <th>3</th>\n",
              "      <td>Color</td>\n",
              "      <td>Christopher Nolan</td>\n",
              "      <td>813.0</td>\n",
              "      <td>164.0</td>\n",
              "      <td>22000.0</td>\n",
              "      <td>23000.0</td>\n",
              "      <td>Christian Bale</td>\n",
              "      <td>27000.0</td>\n",
              "      <td>448130642.0</td>\n",
              "      <td>Action|Thriller</td>\n",
              "      <td>Tom Hardy</td>\n",
              "      <td>The Dark Knight Rises</td>\n",
              "      <td>1144337</td>\n",
              "      <td>106759</td>\n",
              "      <td>Joseph Gordon-Levitt</td>\n",
              "      <td>0.0</td>\n",
              "      <td>deception|imprisonment|lawlessness|police offi...</td>\n",
              "      <td>http://www.imdb.com/title/tt1345836/?ref_=fn_t...</td>\n",
              "      <td>2701.0</td>\n",
              "      <td>English</td>\n",
              "      <td>USA</td>\n",
              "      <td>PG-13</td>\n",
              "      <td>250000000.0</td>\n",
              "      <td>2012.0</td>\n",
              "      <td>23000.0</td>\n",
              "      <td>8.5</td>\n",
              "      <td>2.35</td>\n",
              "      <td>164000</td>\n",
              "    </tr>\n",
              "    <tr>\n",
              "      <th>4</th>\n",
              "      <td>NaN</td>\n",
              "      <td>Doug Walker</td>\n",
              "      <td>NaN</td>\n",
              "      <td>NaN</td>\n",
              "      <td>131.0</td>\n",
              "      <td>NaN</td>\n",
              "      <td>Rob Walker</td>\n",
              "      <td>131.0</td>\n",
              "      <td>NaN</td>\n",
              "      <td>Documentary</td>\n",
              "      <td>Doug Walker</td>\n",
              "      <td>Star Wars: Episode VII - The Force Awakens    ...</td>\n",
              "      <td>8</td>\n",
              "      <td>143</td>\n",
              "      <td>NaN</td>\n",
              "      <td>0.0</td>\n",
              "      <td>NaN</td>\n",
              "      <td>http://www.imdb.com/title/tt5289954/?ref_=fn_t...</td>\n",
              "      <td>NaN</td>\n",
              "      <td>NaN</td>\n",
              "      <td>NaN</td>\n",
              "      <td>NaN</td>\n",
              "      <td>NaN</td>\n",
              "      <td>NaN</td>\n",
              "      <td>12.0</td>\n",
              "      <td>7.1</td>\n",
              "      <td>NaN</td>\n",
              "      <td>0</td>\n",
              "    </tr>\n",
              "  </tbody>\n",
              "</table>\n",
              "</div>"
            ],
            "text/plain": [
              "   color      director_name  ...  aspect_ratio  movie_facebook_likes\n",
              "0  Color      James Cameron  ...          1.78                 33000\n",
              "1  Color     Gore Verbinski  ...          2.35                     0\n",
              "2  Color         Sam Mendes  ...          2.35                 85000\n",
              "3  Color  Christopher Nolan  ...          2.35                164000\n",
              "4    NaN        Doug Walker  ...           NaN                     0\n",
              "\n",
              "[5 rows x 28 columns]"
            ]
          },
          "metadata": {},
          "execution_count": 71
        }
      ]
    },
    {
      "cell_type": "code",
      "source": [
        "movies.shape"
      ],
      "metadata": {
        "colab": {
          "base_uri": "https://localhost:8080/"
        },
        "id": "xDJFOvk6-gLb",
        "outputId": "d281d72f-eadc-4603-dc3a-337fd458ad2f"
      },
      "execution_count": 72,
      "outputs": [
        {
          "output_type": "execute_result",
          "data": {
            "text/plain": [
              "(5043, 28)"
            ]
          },
          "metadata": {},
          "execution_count": 72
        }
      ]
    },
    {
      "cell_type": "markdown",
      "source": [
        "-  ### Subtask 1.2: Inspect the dataframe\n",
        "\n",
        "Inspect the dataframe's columns, shapes, variable types etc."
      ],
      "metadata": {
        "id": "dQNlV4LW9kfn"
      }
    },
    {
      "cell_type": "code",
      "source": [
        "# Write your code for inspection here\n",
        "\n",
        "print( f\"Movies Data Columns :- { movies.columns }\\n\" )\n",
        "\n",
        "print( f\"Movies Data Shape :- { movies.shape }\\n\" )\n",
        "\n",
        "print( f\"Movies Data dtypes :- { movies.dtypes }\\n\" )\n",
        "\n",
        "print( f\"Type of Movies Data dtypes :- { type( movies.dtypes ) }\\n\" )"
      ],
      "metadata": {
        "trusted": true,
        "colab": {
          "base_uri": "https://localhost:8080/"
        },
        "id": "GQPETJz-9kfp",
        "outputId": "8acfe724-3713-4922-a6c1-f9bee50819c4"
      },
      "execution_count": 73,
      "outputs": [
        {
          "output_type": "stream",
          "name": "stdout",
          "text": [
            "Movies Data Columns :- Index(['color', 'director_name', 'num_critic_for_reviews', 'duration',\n",
            "       'director_facebook_likes', 'actor_3_facebook_likes', 'actor_2_name',\n",
            "       'actor_1_facebook_likes', 'gross', 'genres', 'actor_1_name',\n",
            "       'movie_title', 'num_voted_users', 'cast_total_facebook_likes',\n",
            "       'actor_3_name', 'facenumber_in_poster', 'plot_keywords',\n",
            "       'movie_imdb_link', 'num_user_for_reviews', 'language', 'country',\n",
            "       'content_rating', 'budget', 'title_year', 'actor_2_facebook_likes',\n",
            "       'imdb_score', 'aspect_ratio', 'movie_facebook_likes'],\n",
            "      dtype='object')\n",
            "\n",
            "Movies Data Shape :- (5043, 28)\n",
            "\n",
            "Movies Data dtypes :- color                         object\n",
            "director_name                 object\n",
            "num_critic_for_reviews       float64\n",
            "duration                     float64\n",
            "director_facebook_likes      float64\n",
            "actor_3_facebook_likes       float64\n",
            "actor_2_name                  object\n",
            "actor_1_facebook_likes       float64\n",
            "gross                        float64\n",
            "genres                        object\n",
            "actor_1_name                  object\n",
            "movie_title                   object\n",
            "num_voted_users                int64\n",
            "cast_total_facebook_likes      int64\n",
            "actor_3_name                  object\n",
            "facenumber_in_poster         float64\n",
            "plot_keywords                 object\n",
            "movie_imdb_link               object\n",
            "num_user_for_reviews         float64\n",
            "language                      object\n",
            "country                       object\n",
            "content_rating                object\n",
            "budget                       float64\n",
            "title_year                   float64\n",
            "actor_2_facebook_likes       float64\n",
            "imdb_score                   float64\n",
            "aspect_ratio                 float64\n",
            "movie_facebook_likes           int64\n",
            "dtype: object\n",
            "\n",
            "Type of Movies Data dtypes :- <class 'pandas.core.series.Series'>\n",
            "\n"
          ]
        }
      ]
    },
    {
      "cell_type": "markdown",
      "source": [
        "## Task 2: Cleaning the Data\n",
        "\n",
        "-  ### Subtask 2.1: Inspect Null values\n",
        "\n",
        "Find out the number of Null values in all the columns and rows. Also, find the percentage of Null values in each column. Round off the percentages upto two decimal places."
      ],
      "metadata": {
        "id": "5Ji7ENnv9kfs"
      }
    },
    {
      "cell_type": "code",
      "source": [
        "# Write your code for column-wise null count here\n",
        "\n",
        "col_null = movies.isnull().sum( axis = 0 )\n",
        "col_null"
      ],
      "metadata": {
        "trusted": true,
        "colab": {
          "base_uri": "https://localhost:8080/"
        },
        "id": "WzVfZbJ59kfv",
        "outputId": "5310643b-6b37-457b-e884-33741eef8df2"
      },
      "execution_count": 74,
      "outputs": [
        {
          "output_type": "execute_result",
          "data": {
            "text/plain": [
              "color                         19\n",
              "director_name                104\n",
              "num_critic_for_reviews        50\n",
              "duration                      15\n",
              "director_facebook_likes      104\n",
              "actor_3_facebook_likes        23\n",
              "actor_2_name                  13\n",
              "actor_1_facebook_likes         7\n",
              "gross                        884\n",
              "genres                         0\n",
              "actor_1_name                   7\n",
              "movie_title                    0\n",
              "num_voted_users                0\n",
              "cast_total_facebook_likes      0\n",
              "actor_3_name                  23\n",
              "facenumber_in_poster          13\n",
              "plot_keywords                153\n",
              "movie_imdb_link                0\n",
              "num_user_for_reviews          21\n",
              "language                      12\n",
              "country                        5\n",
              "content_rating               303\n",
              "budget                       492\n",
              "title_year                   108\n",
              "actor_2_facebook_likes        13\n",
              "imdb_score                     0\n",
              "aspect_ratio                 329\n",
              "movie_facebook_likes           0\n",
              "dtype: int64"
            ]
          },
          "metadata": {},
          "execution_count": 74
        }
      ]
    },
    {
      "cell_type": "code",
      "source": [
        "# Write your code for row-wise null count here\n",
        "\n",
        "movies.isnull().sum( axis = 1 )"
      ],
      "metadata": {
        "trusted": true,
        "colab": {
          "base_uri": "https://localhost:8080/"
        },
        "id": "lqKi960z9kfx",
        "outputId": "f9734207-b975-453a-e90d-f836f05fe72f"
      },
      "execution_count": 75,
      "outputs": [
        {
          "output_type": "execute_result",
          "data": {
            "text/plain": [
              "0        0\n",
              "1        0\n",
              "2        0\n",
              "3        0\n",
              "4       14\n",
              "        ..\n",
              "5038     4\n",
              "5039     5\n",
              "5040     4\n",
              "5041     2\n",
              "5042     0\n",
              "Length: 5043, dtype: int64"
            ]
          },
          "metadata": {},
          "execution_count": 75
        }
      ]
    },
    {
      "cell_type": "code",
      "source": [
        "# Write your code for column-wise null percentages here\n",
        "\n",
        "# movies.shape[0]\n",
        "\n",
        "( col_null/movies.shape[0] ) * 100"
      ],
      "metadata": {
        "trusted": true,
        "colab": {
          "base_uri": "https://localhost:8080/"
        },
        "id": "b9nRtUvI9kf1",
        "outputId": "03b40332-6f8c-4abc-a3f6-ad05770d2479"
      },
      "execution_count": 76,
      "outputs": [
        {
          "output_type": "execute_result",
          "data": {
            "text/plain": [
              "color                         0.376760\n",
              "director_name                 2.062265\n",
              "num_critic_for_reviews        0.991473\n",
              "duration                      0.297442\n",
              "director_facebook_likes       2.062265\n",
              "actor_3_facebook_likes        0.456078\n",
              "actor_2_name                  0.257783\n",
              "actor_1_facebook_likes        0.138806\n",
              "gross                        17.529248\n",
              "genres                        0.000000\n",
              "actor_1_name                  0.138806\n",
              "movie_title                   0.000000\n",
              "num_voted_users               0.000000\n",
              "cast_total_facebook_likes     0.000000\n",
              "actor_3_name                  0.456078\n",
              "facenumber_in_poster          0.257783\n",
              "plot_keywords                 3.033908\n",
              "movie_imdb_link               0.000000\n",
              "num_user_for_reviews          0.416419\n",
              "language                      0.237954\n",
              "country                       0.099147\n",
              "content_rating                6.008328\n",
              "budget                        9.756098\n",
              "title_year                    2.141582\n",
              "actor_2_facebook_likes        0.257783\n",
              "imdb_score                    0.000000\n",
              "aspect_ratio                  6.523895\n",
              "movie_facebook_likes          0.000000\n",
              "dtype: float64"
            ]
          },
          "metadata": {},
          "execution_count": 76
        }
      ]
    },
    {
      "cell_type": "markdown",
      "source": [
        "-  ### Subtask 2.2: Drop unecessary columns\n",
        "\n",
        "For this assignment, you will mostly be analyzing the movies with respect to the ratings, gross collection, popularity of movies, etc. So many of the columns in this dataframe are not required. So it is advised to drop the following columns.\n",
        "-  color\n",
        "-  director_facebook_likes\n",
        "-  actor_1_facebook_likes\n",
        "-  actor_2_facebook_likes\n",
        "-  actor_3_facebook_likes\n",
        "-  actor_2_name\n",
        "-  cast_total_facebook_likes\n",
        "-  actor_3_name\n",
        "-  duration\n",
        "-  facenumber_in_poster\n",
        "-  content_rating\n",
        "-  country\n",
        "-  movie_imdb_link\n",
        "-  aspect_ratio\n",
        "-  plot_keywords"
      ],
      "metadata": {
        "id": "f5sAi17a9kf3"
      }
    },
    {
      "cell_type": "code",
      "source": [
        "# Write your code for dropping the columns here. It is advised to keep inspecting the dataframe after each set of operations \n",
        "\n",
        "movies = movies.drop( ['color'\n",
        ", 'director_facebook_likes'\n",
        ", 'actor_1_facebook_likes'\n",
        ", 'actor_2_facebook_likes'\n",
        ", 'actor_3_facebook_likes'\n",
        ", 'actor_2_name'\n",
        ", 'cast_total_facebook_likes'\n",
        ", 'actor_3_name'\n",
        ", 'duration'\n",
        ", 'facenumber_in_poster'\n",
        ", 'content_rating'\n",
        ", 'country'\n",
        ", 'movie_imdb_link'\n",
        ", 'aspect_ratio'\n",
        ", 'plot_keywords'], axis = 1 )\n",
        "\n",
        "print( f\"Movies Data Shape :- { movies.shape }\\n\" )\n",
        "\n",
        "movies.head()"
      ],
      "metadata": {
        "trusted": true,
        "colab": {
          "base_uri": "https://localhost:8080/",
          "height": 417
        },
        "id": "ksGT4jNB9kf6",
        "outputId": "cc166f84-2cc7-49f3-ce09-0aece49eef76"
      },
      "execution_count": 78,
      "outputs": [
        {
          "output_type": "stream",
          "name": "stdout",
          "text": [
            "Movies Data Shape :- (5043, 13)\n",
            "\n"
          ]
        },
        {
          "output_type": "execute_result",
          "data": {
            "text/html": [
              "<div>\n",
              "<style scoped>\n",
              "    .dataframe tbody tr th:only-of-type {\n",
              "        vertical-align: middle;\n",
              "    }\n",
              "\n",
              "    .dataframe tbody tr th {\n",
              "        vertical-align: top;\n",
              "    }\n",
              "\n",
              "    .dataframe thead th {\n",
              "        text-align: right;\n",
              "    }\n",
              "</style>\n",
              "<table border=\"1\" class=\"dataframe\">\n",
              "  <thead>\n",
              "    <tr style=\"text-align: right;\">\n",
              "      <th></th>\n",
              "      <th>director_name</th>\n",
              "      <th>num_critic_for_reviews</th>\n",
              "      <th>gross</th>\n",
              "      <th>genres</th>\n",
              "      <th>actor_1_name</th>\n",
              "      <th>movie_title</th>\n",
              "      <th>num_voted_users</th>\n",
              "      <th>num_user_for_reviews</th>\n",
              "      <th>language</th>\n",
              "      <th>budget</th>\n",
              "      <th>title_year</th>\n",
              "      <th>imdb_score</th>\n",
              "      <th>movie_facebook_likes</th>\n",
              "    </tr>\n",
              "  </thead>\n",
              "  <tbody>\n",
              "    <tr>\n",
              "      <th>0</th>\n",
              "      <td>James Cameron</td>\n",
              "      <td>723.0</td>\n",
              "      <td>760505847.0</td>\n",
              "      <td>Action|Adventure|Fantasy|Sci-Fi</td>\n",
              "      <td>CCH Pounder</td>\n",
              "      <td>Avatar</td>\n",
              "      <td>886204</td>\n",
              "      <td>3054.0</td>\n",
              "      <td>English</td>\n",
              "      <td>237000000.0</td>\n",
              "      <td>2009.0</td>\n",
              "      <td>7.9</td>\n",
              "      <td>33000</td>\n",
              "    </tr>\n",
              "    <tr>\n",
              "      <th>1</th>\n",
              "      <td>Gore Verbinski</td>\n",
              "      <td>302.0</td>\n",
              "      <td>309404152.0</td>\n",
              "      <td>Action|Adventure|Fantasy</td>\n",
              "      <td>Johnny Depp</td>\n",
              "      <td>Pirates of the Caribbean: At World's End</td>\n",
              "      <td>471220</td>\n",
              "      <td>1238.0</td>\n",
              "      <td>English</td>\n",
              "      <td>300000000.0</td>\n",
              "      <td>2007.0</td>\n",
              "      <td>7.1</td>\n",
              "      <td>0</td>\n",
              "    </tr>\n",
              "    <tr>\n",
              "      <th>2</th>\n",
              "      <td>Sam Mendes</td>\n",
              "      <td>602.0</td>\n",
              "      <td>200074175.0</td>\n",
              "      <td>Action|Adventure|Thriller</td>\n",
              "      <td>Christoph Waltz</td>\n",
              "      <td>Spectre</td>\n",
              "      <td>275868</td>\n",
              "      <td>994.0</td>\n",
              "      <td>English</td>\n",
              "      <td>245000000.0</td>\n",
              "      <td>2015.0</td>\n",
              "      <td>6.8</td>\n",
              "      <td>85000</td>\n",
              "    </tr>\n",
              "    <tr>\n",
              "      <th>3</th>\n",
              "      <td>Christopher Nolan</td>\n",
              "      <td>813.0</td>\n",
              "      <td>448130642.0</td>\n",
              "      <td>Action|Thriller</td>\n",
              "      <td>Tom Hardy</td>\n",
              "      <td>The Dark Knight Rises</td>\n",
              "      <td>1144337</td>\n",
              "      <td>2701.0</td>\n",
              "      <td>English</td>\n",
              "      <td>250000000.0</td>\n",
              "      <td>2012.0</td>\n",
              "      <td>8.5</td>\n",
              "      <td>164000</td>\n",
              "    </tr>\n",
              "    <tr>\n",
              "      <th>4</th>\n",
              "      <td>Doug Walker</td>\n",
              "      <td>NaN</td>\n",
              "      <td>NaN</td>\n",
              "      <td>Documentary</td>\n",
              "      <td>Doug Walker</td>\n",
              "      <td>Star Wars: Episode VII - The Force Awakens    ...</td>\n",
              "      <td>8</td>\n",
              "      <td>NaN</td>\n",
              "      <td>NaN</td>\n",
              "      <td>NaN</td>\n",
              "      <td>NaN</td>\n",
              "      <td>7.1</td>\n",
              "      <td>0</td>\n",
              "    </tr>\n",
              "  </tbody>\n",
              "</table>\n",
              "</div>"
            ],
            "text/plain": [
              "       director_name  num_critic_for_reviews  ...  imdb_score movie_facebook_likes\n",
              "0      James Cameron                   723.0  ...         7.9                33000\n",
              "1     Gore Verbinski                   302.0  ...         7.1                    0\n",
              "2         Sam Mendes                   602.0  ...         6.8                85000\n",
              "3  Christopher Nolan                   813.0  ...         8.5               164000\n",
              "4        Doug Walker                     NaN  ...         7.1                    0\n",
              "\n",
              "[5 rows x 13 columns]"
            ]
          },
          "metadata": {},
          "execution_count": 78
        }
      ]
    },
    {
      "cell_type": "markdown",
      "source": [
        "-  ### Subtask 2.3: Drop unecessary rows using columns with high Null percentages\n",
        "\n",
        "Now, on inspection you might notice that some columns have large percentage (greater than 5%) of Null values. Drop all the rows which have Null values for such columns."
      ],
      "metadata": {
        "id": "FILevARj9kf7"
      }
    },
    {
      "cell_type": "code",
      "source": [
        "# Write your code to find out such rows here\n",
        "\n",
        "col_null = movies.isnull().sum( axis = 0 )\n",
        "\n",
        "col_null_percent = ( col_null/movies.shape[0] ) * 100\n",
        "\n",
        "col_more_than_5_percent_null = list( col_null_percent[ col_null_percent > 5 ].index )\n",
        "\n",
        "print( f\"Columns needs to be dropped :- { col_more_than_5_percent_null }\\n\" )\n",
        "\n",
        "rows_needs_to_be_droped = movies.loc[ :, col_more_than_5_percent_null ].isnull().sum( axis = 1 )\n",
        "rows_needs_to_be_droped = list( rows_needs_to_be_droped[ rows_needs_to_be_droped > 0 ].index )\n",
        "\n",
        "print( f\"Before Drop, shape = { movies.shape }\" )\n",
        "\n",
        "print( f\"During Drop, shape = { movies.drop( rows_needs_to_be_droped, axis=0 ).shape }\" )\n",
        "\n",
        "print( f\"After Drop, shape = { movies.shape }\" )"
      ],
      "metadata": {
        "trusted": true,
        "colab": {
          "base_uri": "https://localhost:8080/"
        },
        "id": "kB3BdyId9kf9",
        "outputId": "4b7c7aab-b1b6-4772-8087-2d2c7fdaba9b"
      },
      "execution_count": 102,
      "outputs": [
        {
          "output_type": "stream",
          "name": "stdout",
          "text": [
            "Columns needs to be dropped :- ['gross', 'budget']\n",
            "\n",
            "Before Drop, shape = (5043, 13)\n",
            "During Drop, shape = (3891, 13)\n",
            "After Drop, shape = (5043, 13)\n"
          ]
        },
        {
          "output_type": "execute_result",
          "data": {
            "text/plain": [
              "(3891, 13)"
            ]
          },
          "metadata": {},
          "execution_count": 102
        }
      ]
    },
    {
      "cell_type": "code",
      "source": [
        "movies.shape"
      ],
      "metadata": {
        "colab": {
          "base_uri": "https://localhost:8080/"
        },
        "id": "1-TfMl3_IaM3",
        "outputId": "7ab5c3b8-17b6-48a1-e936-c15b1a6f55ef"
      },
      "execution_count": 103,
      "outputs": [
        {
          "output_type": "execute_result",
          "data": {
            "text/plain": [
              "(3891, 13)"
            ]
          },
          "metadata": {},
          "execution_count": 103
        }
      ]
    },
    {
      "cell_type": "markdown",
      "source": [
        "-  ### Subtask 2.4: Drop unecessary rows\n",
        "\n",
        "Some of the rows might have greater than five NaN values. Such rows aren't of much use for the analysis and hence, should be removed."
      ],
      "metadata": {
        "id": "0kx1vQBu9kf-"
      }
    },
    {
      "cell_type": "code",
      "source": [
        "#Write your code for dropping the rows here\n",
        "movies = movies.drop( rows_needs_to_be_droped, axis=0 )\n",
        "movies.shape"
      ],
      "metadata": {
        "trusted": true,
        "id": "BVuM_UmD9kf_"
      },
      "execution_count": null,
      "outputs": []
    },
    {
      "cell_type": "code",
      "source": [
        "d = {'X': pd.Series( [78,96,80] ), 'Y': pd.Series( [84,89,83,86] ),'Z': pd.Series( [86,97,96,72,83] ) }\n",
        "\n",
        "df = pd.DataFrame( d )\n",
        "df['X'].fillna( -100, inplace = True )\n",
        "\n",
        "df"
      ],
      "metadata": {
        "colab": {
          "base_uri": "https://localhost:8080/",
          "height": 206
        },
        "id": "hUR1bFkDKjJL",
        "outputId": "245d42de-185e-411f-8642-5d9cf80c0cc4"
      },
      "execution_count": 120,
      "outputs": [
        {
          "output_type": "execute_result",
          "data": {
            "text/html": [
              "<div>\n",
              "<style scoped>\n",
              "    .dataframe tbody tr th:only-of-type {\n",
              "        vertical-align: middle;\n",
              "    }\n",
              "\n",
              "    .dataframe tbody tr th {\n",
              "        vertical-align: top;\n",
              "    }\n",
              "\n",
              "    .dataframe thead th {\n",
              "        text-align: right;\n",
              "    }\n",
              "</style>\n",
              "<table border=\"1\" class=\"dataframe\">\n",
              "  <thead>\n",
              "    <tr style=\"text-align: right;\">\n",
              "      <th></th>\n",
              "      <th>X</th>\n",
              "      <th>Y</th>\n",
              "      <th>Z</th>\n",
              "    </tr>\n",
              "  </thead>\n",
              "  <tbody>\n",
              "    <tr>\n",
              "      <th>0</th>\n",
              "      <td>78.0</td>\n",
              "      <td>84.0</td>\n",
              "      <td>86</td>\n",
              "    </tr>\n",
              "    <tr>\n",
              "      <th>1</th>\n",
              "      <td>96.0</td>\n",
              "      <td>89.0</td>\n",
              "      <td>97</td>\n",
              "    </tr>\n",
              "    <tr>\n",
              "      <th>2</th>\n",
              "      <td>80.0</td>\n",
              "      <td>83.0</td>\n",
              "      <td>96</td>\n",
              "    </tr>\n",
              "    <tr>\n",
              "      <th>3</th>\n",
              "      <td>-100.0</td>\n",
              "      <td>86.0</td>\n",
              "      <td>72</td>\n",
              "    </tr>\n",
              "    <tr>\n",
              "      <th>4</th>\n",
              "      <td>-100.0</td>\n",
              "      <td>NaN</td>\n",
              "      <td>83</td>\n",
              "    </tr>\n",
              "  </tbody>\n",
              "</table>\n",
              "</div>"
            ],
            "text/plain": [
              "       X     Y   Z\n",
              "0   78.0  84.0  86\n",
              "1   96.0  89.0  97\n",
              "2   80.0  83.0  96\n",
              "3 -100.0  86.0  72\n",
              "4 -100.0   NaN  83"
            ]
          },
          "metadata": {},
          "execution_count": 120
        }
      ]
    },
    {
      "cell_type": "markdown",
      "source": [
        "-  ### Subtask 2.5: Fill NaN values\n",
        "\n",
        "You might notice that the `language` column has some NaN values. Here, on inspection, you will see that it is safe to replace all the missing values with `'English'`."
      ],
      "metadata": {
        "id": "pq-wPoFl9kgB"
      }
    },
    {
      "cell_type": "code",
      "source": [
        "# Write your code for filling the NaN values in the 'language' column here\n",
        "\n",
        "print( f\"Before Language Null Fixing :- \\n { movies.isnull().sum() } \\n\" )\n",
        "\n",
        "movies['language'] = movies['language'].fillna( 'English' )\n",
        "\n",
        "print( f\"After Language Null Fixing :- \\n { movies.isnull().sum() } \\n\" )"
      ],
      "metadata": {
        "trusted": true,
        "colab": {
          "base_uri": "https://localhost:8080/"
        },
        "id": "rn5743Sk9kgC",
        "outputId": "fde1b8f4-a8ef-41c5-d373-1a3928a19059"
      },
      "execution_count": 126,
      "outputs": [
        {
          "output_type": "stream",
          "name": "stdout",
          "text": [
            "Before Language Null Fixing :- \n",
            " director_name             0\n",
            "num_critic_for_reviews    1\n",
            "gross                     0\n",
            "genres                    0\n",
            "actor_1_name              3\n",
            "movie_title               0\n",
            "num_voted_users           0\n",
            "num_user_for_reviews      0\n",
            "language                  3\n",
            "budget                    0\n",
            "title_year                0\n",
            "imdb_score                0\n",
            "movie_facebook_likes      0\n",
            "dtype: int64 \n",
            "\n",
            "After Language Null Fixing :- \n",
            " director_name             0\n",
            "num_critic_for_reviews    1\n",
            "gross                     0\n",
            "genres                    0\n",
            "actor_1_name              3\n",
            "movie_title               0\n",
            "num_voted_users           0\n",
            "num_user_for_reviews      0\n",
            "language                  0\n",
            "budget                    0\n",
            "title_year                0\n",
            "imdb_score                0\n",
            "movie_facebook_likes      0\n",
            "dtype: int64 \n",
            "\n"
          ]
        }
      ]
    },
    {
      "cell_type": "markdown",
      "source": [
        "\n",
        "\n",
        "-  ### Subtask 2.6: Check the number of retained rows\n",
        "\n",
        "You might notice that two of the columns viz. `num_critic_for_reviews` and `actor_1_name` have small percentages of NaN values left. You can let these columns as it is for now. Check the number and percentage of the rows retained after completing all the tasks above."
      ],
      "metadata": {
        "id": "RI5nBKch9kgD"
      }
    },
    {
      "cell_type": "code",
      "source": [
        "# Write your code for checking number of retained rows here\n",
        "# movies.isnull().sum( axis = 1 )"
      ],
      "metadata": {
        "trusted": true,
        "id": "BRFyjmt59kgE"
      },
      "execution_count": null,
      "outputs": []
    },
    {
      "cell_type": "markdown",
      "source": [
        "**Checkpoint 1:** You might have noticed that we still have around `77%` of the rows!"
      ],
      "metadata": {
        "id": "BdMoNxyb9kgG"
      }
    },
    {
      "cell_type": "markdown",
      "source": [
        "## Task 3: Data Analysis\n",
        "\n",
        "-  ### Subtask 3.1: Change the unit of columns\n",
        "\n",
        "Convert the unit of the `budget` and `gross` columns from `$` to `million $`."
      ],
      "metadata": {
        "id": "2pl_kOci9kgH"
      }
    },
    {
      "cell_type": "code",
      "source": [
        "# Write your code for unit conversion here"
      ],
      "metadata": {
        "trusted": true,
        "id": "QxihFntT9kgI"
      },
      "execution_count": null,
      "outputs": []
    },
    {
      "cell_type": "markdown",
      "source": [
        "-  ### Subtask 3.2: Find the movies with highest profit\n",
        "\n",
        "    1. Create a new column called `profit` which contains the difference of the two columns: `gross` and `budget`.\n",
        "    2. Sort the dataframe using the `profit` column as reference.\n",
        "    3. Extract the top ten profiting movies in descending order and store them in a new dataframe - `top10`"
      ],
      "metadata": {
        "id": "j5FXHSy59kgK"
      }
    },
    {
      "cell_type": "code",
      "source": [
        "# Write your code for creating the profit column here"
      ],
      "metadata": {
        "trusted": true,
        "id": "aSpjM_0i9kgL"
      },
      "execution_count": null,
      "outputs": []
    },
    {
      "cell_type": "code",
      "source": [
        "# Write your code for sorting the dataframe here"
      ],
      "metadata": {
        "trusted": true,
        "id": "R00Cb_Gi9kgL"
      },
      "execution_count": null,
      "outputs": []
    },
    {
      "cell_type": "code",
      "source": [
        "# Write your code to get the top 10 profiting movies here"
      ],
      "metadata": {
        "trusted": true,
        "id": "wv703a2u9kgM"
      },
      "execution_count": null,
      "outputs": []
    },
    {
      "cell_type": "markdown",
      "source": [
        "-  ### Subtask 3.3: Drop duplicate values\n",
        "\n",
        "After you found out the top 10 profiting movies, you might have notice a duplicate value. So, it seems like the dataframe has duplicate values as well. Drop the duplicate values from the dataframe and repeat `Subtask 3.2`."
      ],
      "metadata": {
        "id": "O6OqJwD29kgN"
      }
    },
    {
      "cell_type": "code",
      "source": [
        "# Write your code for dropping duplicate values here"
      ],
      "metadata": {
        "trusted": true,
        "id": "Wbztd4i89kgO"
      },
      "execution_count": null,
      "outputs": []
    },
    {
      "cell_type": "code",
      "source": [
        "# Write code for repeating subtask 2 here"
      ],
      "metadata": {
        "trusted": true,
        "id": "nIZQCw4u9kgP"
      },
      "execution_count": null,
      "outputs": []
    },
    {
      "cell_type": "markdown",
      "source": [
        "**Checkpoint 2:** You might spot two movies directed by `James Cameron` in the list."
      ],
      "metadata": {
        "id": "NNqWHp429kgP"
      }
    },
    {
      "cell_type": "markdown",
      "source": [
        "-  ### Subtask 3.4: Find IMDb Top 250\n",
        "\n",
        "    1. Create a new dataframe `IMDb_Top_250` and store the top 250 movies with the highest IMDb Rating (corresponding to the column: `imdb_score`). Also make sure that for all of these movies, the `num_voted_users` is greater than 25,000.\n",
        "Also add a `Rank` column containing the values 1 to 250 indicating the ranks of the corresponding films.\n",
        "    2. Extract all the movies in the `IMDb_Top_250` dataframe which are not in the English language and store them in a new dataframe named `Top_Foreign_Lang_Film`."
      ],
      "metadata": {
        "id": "cjokak0p9kgQ"
      }
    },
    {
      "cell_type": "code",
      "source": [
        "# Write your code for extracting the top 250 movies as per the IMDb score here. Make sure that you store it in a new dataframe \n",
        "# and name that dataframe as 'IMDb_Top_250'"
      ],
      "metadata": {
        "trusted": true,
        "id": "fDClZKQR9kgQ"
      },
      "execution_count": null,
      "outputs": []
    },
    {
      "cell_type": "code",
      "source": [
        "# Write your code to extract top foreign language films from 'IMDb_Top_250' here"
      ],
      "metadata": {
        "trusted": true,
        "id": "EiBQF_Jn9kgR"
      },
      "execution_count": null,
      "outputs": []
    },
    {
      "cell_type": "markdown",
      "source": [
        "**Checkpoint 3:** Can you spot `Veer-Zaara` in the dataframe?"
      ],
      "metadata": {
        "id": "xuSVYDjS9kgS"
      }
    },
    {
      "cell_type": "markdown",
      "source": [
        "- ### Subtask 3.5: Find the best directors\n",
        "\n",
        "    1. Group the dataframe using the `director_name` column.\n",
        "    2. Find out the top 10 directors for whom the mean of `imdb_score` is the highest and store them in a new dataframe `top10director`. "
      ],
      "metadata": {
        "id": "2RSLP0k79kgS"
      }
    },
    {
      "cell_type": "markdown",
      "source": [
        "**Checkpoint 4:** No surprises that `Damien Chazelle` (director of Whiplash and La La Land) is in this list."
      ],
      "metadata": {
        "id": "ih4vnKBY9kgT"
      }
    },
    {
      "cell_type": "markdown",
      "source": [
        "-  ### Subtask 3.6: Find popular genres\n",
        "\n",
        "You might have noticed the `genres` column in the dataframe with all the genres of the movies seperated by a pipe (`|`). Out of all the movie genres, the first two are most significant for any film.\n",
        "\n",
        "1. Extract the first two genres from the `genres` column and store them in two new columns: `genre_1` and `genre_2`. Some of the movies might have only one genre. In such cases, extract the single genre into both the columns, i.e. for such movies the `genre_2` will be the same as `genre_1`.\n",
        "2. Group the dataframe using `genre_1` as the primary column and `genre_2` as the secondary column.\n",
        "3. Find out the 5 most popular combo of genres by finding the mean of the gross values using the `gross` column and store them in a new dataframe named `PopGenre`."
      ],
      "metadata": {
        "id": "gc0t5WPK9kgU"
      }
    },
    {
      "cell_type": "code",
      "source": [
        "# Write your code for extracting the first two genres of each movie here"
      ],
      "metadata": {
        "trusted": true,
        "id": "89Oi9v209kgV"
      },
      "execution_count": null,
      "outputs": []
    },
    {
      "cell_type": "code",
      "source": [
        "# Write your code for grouping the dataframe here"
      ],
      "metadata": {
        "trusted": true,
        "id": "MdRGIWBg9kgW"
      },
      "execution_count": null,
      "outputs": []
    },
    {
      "cell_type": "code",
      "source": [
        "# Write your code for getting the 5 most popular combo of genres here"
      ],
      "metadata": {
        "trusted": true,
        "id": "ZXkpYrsK9kgW"
      },
      "execution_count": null,
      "outputs": []
    },
    {
      "cell_type": "markdown",
      "source": [
        "**Checkpoint 5:** Well, as it turns out. `Family + Sci-Fi` is the most popular combo of genres out there!"
      ],
      "metadata": {
        "id": "PRTfgo5m9kgX"
      }
    },
    {
      "cell_type": "markdown",
      "source": [
        "-  ### Subtask 3.7: Find the critic-favorite and audience-favorite actors\n",
        "\n",
        "    1. Create three new dataframes namely, `Meryl_Streep`, `Leo_Caprio`, and `Brad_Pitt` which contain the movies in which the actors: 'Meryl Streep', 'Leonardo DiCaprio', and 'Brad Pitt' are the lead actors. Use only the `actor_1_name` column for extraction. Also, make sure that you use the names 'Meryl Streep', 'Leonardo DiCaprio', and 'Brad Pitt' for the said extraction.\n",
        "    2. Append the rows of all these dataframes and store them in a new dataframe named `Combined`.\n",
        "    3. Group the combined dataframe using the `actor_1_name` column.\n",
        "    4. Find the mean of the `num_critic_for_reviews` and `num_user_for_review` and identify the actors which have the highest mean."
      ],
      "metadata": {
        "id": "aBd_7KRh9kgY"
      }
    },
    {
      "cell_type": "code",
      "source": [
        "# Write your code for creating three new dataframes here\n",
        "# Include all movies in which Meryl_Streep is the lead"
      ],
      "metadata": {
        "trusted": true,
        "id": "mvikhtgd9kgY"
      },
      "execution_count": null,
      "outputs": []
    },
    {
      "cell_type": "code",
      "source": [
        "# Include all movies in which Leo_Caprio is the lead"
      ],
      "metadata": {
        "trusted": true,
        "id": "vl7lojbT9kgZ"
      },
      "execution_count": null,
      "outputs": []
    },
    {
      "cell_type": "code",
      "source": [
        "# Include all movies in which Brad_Pitt is the lead"
      ],
      "metadata": {
        "trusted": true,
        "id": "ATeS84aV9kga"
      },
      "execution_count": null,
      "outputs": []
    },
    {
      "cell_type": "code",
      "source": [
        "# Write your code for combining the three dataframes here"
      ],
      "metadata": {
        "trusted": true,
        "id": "tq0xLcEA9kgb"
      },
      "execution_count": null,
      "outputs": []
    },
    {
      "cell_type": "code",
      "source": [
        "# Write your code for grouping the combined dataframe here\n",
        "\n",
        "#3. Group the combined dataframe using the `actor_1_name` column."
      ],
      "metadata": {
        "trusted": true,
        "id": "IQO3avaE9kgb"
      },
      "execution_count": null,
      "outputs": []
    },
    {
      "cell_type": "code",
      "source": [
        "# Write the code for finding the mean of critic reviews and audience reviews here\n",
        "#4. Find the mean of the `num_critic_for_reviews` and `num_user_for_review` and identify the actors which have the highest mean."
      ],
      "metadata": {
        "trusted": true,
        "id": "cWvqe_Rm9kgc"
      },
      "execution_count": null,
      "outputs": []
    },
    {
      "cell_type": "markdown",
      "source": [
        "**Checkpoint 6:** `Leonardo` has aced both the lists!"
      ],
      "metadata": {
        "id": "62QjQAP29kgd"
      }
    },
    {
      "cell_type": "code",
      "source": [
        ""
      ],
      "metadata": {
        "id": "5B_z9Dbu9kgd"
      },
      "execution_count": null,
      "outputs": []
    }
  ]
}